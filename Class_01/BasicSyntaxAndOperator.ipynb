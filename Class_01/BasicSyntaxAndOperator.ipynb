{
 "cells": [
  {
   "cell_type": "markdown",
   "metadata": {},
   "source": [
    "Print Function"
   ]
  },
  {
   "cell_type": "code",
   "execution_count": 47,
   "metadata": {},
   "outputs": [
    {
     "name": "stdout",
     "output_type": "stream",
     "text": [
      "Hello, World\n"
     ]
    }
   ],
   "source": [
    "print(\"Hello, World\")"
   ]
  },
  {
   "cell_type": "markdown",
   "metadata": {},
   "source": [
    "Variable, It's Types and Some Basic Operations"
   ]
  },
  {
   "cell_type": "code",
   "execution_count": 51,
   "metadata": {},
   "outputs": [
    {
     "name": "stdout",
     "output_type": "stream",
     "text": [
      "10\n",
      "15.999\n",
      "a+b\n",
      "25.999000000000002\n",
      "(2+3j)\n",
      "(2+3j)\n"
     ]
    }
   ],
   "source": [
    "a=10\n",
    "b=20\n",
    "b=15.999 # always pick the updated value stored in variable\n",
    "complex_value_01=complex(2,3) # complex value: method 01\n",
    "complex_value_02=2+3j # complex value: method 02\n",
    "print(a)\n",
    "print(b)\n",
    "print(\"a+b\") # text type (string)\n",
    "print(a+b) # numeric type (int, float etc)\n",
    "print(complex_value_01)\n",
    "print(complex_value_02)\n"
   ]
  },
  {
   "cell_type": "code",
   "execution_count": 49,
   "metadata": {},
   "outputs": [
    {
     "name": "stdout",
     "output_type": "stream",
     "text": [
      "Jafrin AlamPrima\n",
      "('Jafrin Alam', 'Prima')\n",
      "Jafrin Alam Prima\n"
     ]
    }
   ],
   "source": [
    "f_name=\"Jafrin Alam\"\n",
    "l_name=\"Prima\"\n",
    "name=f_name+l_name # stored at a 'variable' without spacing\n",
    "print(name)\n",
    "name=f_name,l_name # stored at a 'set' with it's typical order\n",
    "print(name)\n",
    "print(f_name,l_name) # stored at a 'variable' with a space\n",
    "# ',' add an additional space where '+' doesn't. We can print them by mentioning the names but in case we store them, it will stoed as a set value. "
   ]
  },
  {
   "cell_type": "code",
   "execution_count": 53,
   "metadata": {},
   "outputs": [
    {
     "name": "stdout",
     "output_type": "stream",
     "text": [
      "<class 'int'>\n",
      "<class 'float'>\n",
      "<class 'str'>\n",
      "<class 'bool'>\n",
      "<class 'complex'>\n"
     ]
    }
   ],
   "source": [
    "abc=17\n",
    "pi=3.14159\n",
    "xyz=\"Death\"\n",
    "me=False\n",
    "com=complex(9,7)\n",
    "print(type(abc))\n",
    "print(type(pi))\n",
    "print(type(xyz))\n",
    "print(type(me))\n",
    "print(type(com))"
   ]
  },
  {
   "cell_type": "markdown",
   "metadata": {},
   "source": [
    "Inputting and Type Conversion (Type Casting)"
   ]
  },
  {
   "cell_type": "code",
   "execution_count": 57,
   "metadata": {},
   "outputs": [
    {
     "name": "stdout",
     "output_type": "stream",
     "text": [
      "Hi Prima !\n",
      "As per the given input, you are 23 years old, you belongs to the  Gaibandha city and you works as a Data Scientist at Google.\n"
     ]
    }
   ],
   "source": [
    "name=input(\"Enter your name: \")\n",
    "age=input(\"Enter your age: \")\n",
    "hometown=input(\"Enter your hometown: \")\n",
    "profession=input(\"Enter your profession: \")\n",
    "\n",
    "print(\"Hi\",name,\"!\\nAs per the given input, you are\",age, \"years old, you belongs to the\",hometown,\"city and you works as a\",profession,\"at Google.\")"
   ]
  }
 ],
 "metadata": {
  "kernelspec": {
   "display_name": "Python 3",
   "language": "python",
   "name": "python3"
  },
  "language_info": {
   "codemirror_mode": {
    "name": "ipython",
    "version": 3
   },
   "file_extension": ".py",
   "mimetype": "text/x-python",
   "name": "python",
   "nbconvert_exporter": "python",
   "pygments_lexer": "ipython3",
   "version": "3.12.3"
  }
 },
 "nbformat": 4,
 "nbformat_minor": 2
}
